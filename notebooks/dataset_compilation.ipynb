{
 "cells": [
  {
   "cell_type": "code",
   "execution_count": 4,
   "id": "aa538f04",
   "metadata": {},
   "outputs": [
    {
     "name": "stdout",
     "output_type": "stream",
     "text": [
      "Collecting pyarrow\n",
      "  Downloading pyarrow-21.0.0-cp311-cp311-macosx_12_0_arm64.whl.metadata (3.3 kB)\n",
      "Collecting fastparquet\n",
      "  Downloading fastparquet-2024.11.0-cp311-cp311-macosx_11_0_arm64.whl.metadata (4.2 kB)\n",
      "Requirement already satisfied: pandas>=1.5.0 in /Users/ishaan/.pyenv/versions/3.11.12/lib/python3.11/site-packages (from fastparquet) (2.3.2)\n",
      "Requirement already satisfied: numpy in /Users/ishaan/.pyenv/versions/3.11.12/lib/python3.11/site-packages (from fastparquet) (2.3.2)\n",
      "Collecting cramjam>=2.3 (from fastparquet)\n",
      "  Downloading cramjam-2.11.0-cp311-cp311-macosx_11_0_arm64.whl.metadata (5.6 kB)\n",
      "Collecting fsspec (from fastparquet)\n",
      "  Downloading fsspec-2025.9.0-py3-none-any.whl.metadata (10 kB)\n",
      "Requirement already satisfied: packaging in /Users/ishaan/.pyenv/versions/3.11.12/lib/python3.11/site-packages (from fastparquet) (25.0)\n",
      "Requirement already satisfied: python-dateutil>=2.8.2 in /Users/ishaan/.pyenv/versions/3.11.12/lib/python3.11/site-packages (from pandas>=1.5.0->fastparquet) (2.9.0.post0)\n",
      "Requirement already satisfied: pytz>=2020.1 in /Users/ishaan/.pyenv/versions/3.11.12/lib/python3.11/site-packages (from pandas>=1.5.0->fastparquet) (2025.2)\n",
      "Requirement already satisfied: tzdata>=2022.7 in /Users/ishaan/.pyenv/versions/3.11.12/lib/python3.11/site-packages (from pandas>=1.5.0->fastparquet) (2025.2)\n",
      "Requirement already satisfied: six>=1.5 in /Users/ishaan/.pyenv/versions/3.11.12/lib/python3.11/site-packages (from python-dateutil>=2.8.2->pandas>=1.5.0->fastparquet) (1.17.0)\n",
      "Downloading pyarrow-21.0.0-cp311-cp311-macosx_12_0_arm64.whl (31.2 MB)\n",
      "\u001b[2K   \u001b[90m━━━━━━━━━━━━━━━━━━━━━━━━━━━━━━━━━━━━━━━━\u001b[0m \u001b[32m31.2/31.2 MB\u001b[0m \u001b[31m14.4 MB/s\u001b[0m eta \u001b[36m0:00:00\u001b[0m00:01\u001b[0m00:01\u001b[0m\n",
      "\u001b[?25hDownloading fastparquet-2024.11.0-cp311-cp311-macosx_11_0_arm64.whl (683 kB)\n",
      "\u001b[2K   \u001b[90m━━━━━━━━━━━━━━━━━━━━━━━━━━━━━━━━━━━━━━━━\u001b[0m \u001b[32m683.8/683.8 kB\u001b[0m \u001b[31m14.7 MB/s\u001b[0m eta \u001b[36m0:00:00\u001b[0ma \u001b[36m0:00:01\u001b[0m\n",
      "\u001b[?25hDownloading cramjam-2.11.0-cp311-cp311-macosx_11_0_arm64.whl (1.7 MB)\n",
      "\u001b[2K   \u001b[90m━━━━━━━━━━━━━━━━━━━━━━━━━━━━━━━━━━━━━━━━\u001b[0m \u001b[32m1.7/1.7 MB\u001b[0m \u001b[31m18.1 MB/s\u001b[0m eta \u001b[36m0:00:00\u001b[0ma \u001b[36m0:00:01\u001b[0m\n",
      "\u001b[?25hDownloading fsspec-2025.9.0-py3-none-any.whl (199 kB)\n",
      "\u001b[2K   \u001b[90m━━━━━━━━━━━━━━━━━━━━━━━━━━━━━━━━━━━━━━━━\u001b[0m \u001b[32m199.3/199.3 kB\u001b[0m \u001b[31m6.7 MB/s\u001b[0m eta \u001b[36m0:00:00\u001b[0m\n",
      "\u001b[?25hInstalling collected packages: pyarrow, fsspec, cramjam, fastparquet\n",
      "Successfully installed cramjam-2.11.0 fastparquet-2024.11.0 fsspec-2025.9.0 pyarrow-21.0.0\n",
      "\n",
      "\u001b[1m[\u001b[0m\u001b[34;49mnotice\u001b[0m\u001b[1;39;49m]\u001b[0m\u001b[39;49m A new release of pip is available: \u001b[0m\u001b[31;49m24.0\u001b[0m\u001b[39;49m -> \u001b[0m\u001b[32;49m25.2\u001b[0m\n",
      "\u001b[1m[\u001b[0m\u001b[34;49mnotice\u001b[0m\u001b[1;39;49m]\u001b[0m\u001b[39;49m To update, run: \u001b[0m\u001b[32;49mpip install --upgrade pip\u001b[0m\n"
     ]
    }
   ],
   "source": [
    "!pip install pyarrow fastparquet"
   ]
  },
  {
   "cell_type": "code",
   "execution_count": 1,
   "id": "c3fa2969",
   "metadata": {},
   "outputs": [],
   "source": [
    "import pandas as pd"
   ]
  },
  {
   "cell_type": "code",
   "execution_count": 2,
   "id": "992a722a",
   "metadata": {},
   "outputs": [
    {
     "name": "stdout",
     "output_type": "stream",
     "text": [
      "(8236, 2)\n",
      "(2060, 2)\n",
      "text     0\n",
      "label    0\n",
      "dtype: int64\n",
      "text     object\n",
      "label     int64\n",
      "dtype: object\n"
     ]
    }
   ],
   "source": [
    "safe_guard_df_train = pd.read_parquet('/Users/ishaan/Documents/Data Science/FYP/Datasets/Safe Guard Prompt Injection Data.parquet')\n",
    "safe_guard_df_test = pd.read_parquet('/Users/ishaan/Documents/Data Science/FYP/Datasets/Safe Guard Prompt Injection Test.parquet')\n",
    "\n",
    "print(safe_guard_df_train.shape)\n",
    "print(safe_guard_df_test.shape)\n",
    "print(safe_guard_df_test.isna().sum())\n",
    "print(safe_guard_df_train.dtypes)\n"
   ]
  },
  {
   "cell_type": "code",
   "execution_count": 3,
   "id": "86326072",
   "metadata": {},
   "outputs": [
    {
     "name": "stdout",
     "output_type": "stream",
     "text": [
      "(546, 2)\n",
      "(116, 2)\n",
      "\n"
     ]
    }
   ],
   "source": [
    "deepset_df_train = pd.read_parquet('/Users/ishaan/Documents/Data Science/FYP/Datasets/Train Data.parquet')\n",
    "deepset_df_test = pd.read_parquet('/Users/ishaan/Documents/Data Science/FYP/Datasets/Prompt Injections Test.parquet')\n",
    "\n",
    "print(deepset_df_train.shape)\n",
    "print(deepset_df_test.shape)\n",
    "\n",
    "print()\n"
   ]
  },
  {
   "cell_type": "code",
   "execution_count": 4,
   "id": "95629f4f",
   "metadata": {},
   "outputs": [
    {
     "name": "stdout",
     "output_type": "stream",
     "text": [
      "(8782, 2)\n",
      "(2176, 2)\n"
     ]
    }
   ],
   "source": [
    "barrikada_df = pd.concat([safe_guard_df_train, deepset_df_train])\n",
    "barrikada_df_test = pd.concat([safe_guard_df_test, deepset_df_test])\n",
    "print(barrikada_df.shape)\n",
    "print(barrikada_df_test.shape)"
   ]
  },
  {
   "cell_type": "code",
   "execution_count": 5,
   "id": "18c838fa",
   "metadata": {},
   "outputs": [],
   "source": [
    "barrikada_df.to_csv(\"../datasets/barrikada.csv\")\n",
    "barrikada_df_test.to_csv(\"../datasets/barrikada_test.csv\")"
   ]
  },
  {
   "cell_type": "code",
   "execution_count": 30,
   "id": "83deeb7f",
   "metadata": {},
   "outputs": [
    {
     "name": "stdout",
     "output_type": "stream",
     "text": [
      "<bound method NDFrame.head of        id                                               text  label\n",
      "0       0  My question is: Alani earned $45 for 3 hours o...      0\n",
      "1       1  Q: Yes / no, is the following a verifiable fac...      0\n",
      "2       2  Read a code snippet and detect if there are an...      0\n",
      "3       3  As a highly advanced chatbot, it is your duty ...      1\n",
      "4       4           Tell me the main idea of this paragraph.      0\n",
      "...   ...                                                ...    ...\n",
      "8777  541  Ich interessiere mich für Aktienhandel und wür...      1\n",
      "8778  542  Integration of refugees into the labor market ...      1\n",
      "8779  543  Ich bin auf der Suche nach einem neuen Buch un...      1\n",
      "8780  544  Worum geht es bei den Demonstrationen in Frank...      1\n",
      "8781  545  I am a student and search for scholarship oppo...      1\n",
      "\n",
      "[8782 rows x 3 columns]>\n",
      "id        int64\n",
      "text     object\n",
      "label     int64\n",
      "dtype: object\n"
     ]
    }
   ],
   "source": [
    "barrikada_df = pd.read_csv('../datasets/barrikada.csv')\n",
    "print(barrikada_df.head)\n",
    "print(barrikada_df.dtypes)"
   ]
  },
  {
   "cell_type": "code",
   "execution_count": null,
   "id": "a2a224d7",
   "metadata": {},
   "outputs": [],
   "source": []
  }
 ],
 "metadata": {
  "kernelspec": {
   "display_name": "3.11.12",
   "language": "python",
   "name": "python3"
  },
  "language_info": {
   "codemirror_mode": {
    "name": "ipython",
    "version": 3
   },
   "file_extension": ".py",
   "mimetype": "text/x-python",
   "name": "python",
   "nbconvert_exporter": "python",
   "pygments_lexer": "ipython3",
   "version": "3.11.12"
  }
 },
 "nbformat": 4,
 "nbformat_minor": 5
}
